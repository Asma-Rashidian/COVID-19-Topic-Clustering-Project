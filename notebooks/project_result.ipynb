{
 "cells": [
  {
   "cell_type": "markdown",
   "metadata": {},
   "source": [
    "# General Approach \n",
    "\n",
    "The general approach which is considered in this project :\n",
    "\n",
    "1. Implementing `Word2Vec` and `TF-IDF` as Vectorization method.\n",
    "\n",
    "2. `PCA` and `T-SNE` as Dimension re duction methods.\n",
    "\n",
    "3. `Kmeans`, `Hierarchical Clustering`, `AgglomerativeClustering` as Clustering methods.\n",
    "\n",
    "4. `Elbow` for estimating number of clusters as `K`.\n",
    "\n",
    "5. `LDA` as Latent Dirichlet Allocation for `Topic` generator.\n",
    "AgglomerativeClustering\n",
    "6. `Classification` base on Kmeans: `SGDClassifier`."
   ]
  },
  {
   "cell_type": "markdown",
   "metadata": {},
   "source": [
    "## Methods Comparison\n",
    "1. **Clustering Methods:**\n",
    "\n",
    "   - **Kmeans vs. Hierarchical Clustering:** \n",
    "     - Kmeans with T-SNE consistently outperforms Kmeans with PCA, indicating that non-linear dimensionality reduction (T-SNE) provides better separation of clusters compared to linear methods (PCA).\n",
    "     - Hierarchical clustering with T-SNE generally yields higher silhouette scores than with PCA, showcasing the effectiveness of T-SNE in capturing complex relationships within data.\n",
    "\n",
    "2. **TF-IDF vs. Word2Vec Representations:**\n",
    "   - **Kmeans vs. Hierarchical Clustering:**\n",
    "     - In both TF-IDF and Word2Vec representations, Kmeans and hierarchical clustering show different performance depending on the linkage method and the choice of representation.\n",
    "     - Word2Vec with T-SNE consistently demonstrates better clustering results, indicating that the semantic relationships captured by Word2Vec are better represented in lower-dimensional space using T-SNE.\n",
    "\n",
    "3. **Classification Performance:**\n",
    "   - **SGD Classification:**\n",
    "     - Using TF-IDF based Kmeans and T-SNE representations leads to better classification results compared to Word2Vec, showcasing the relevance of feature representation in classification tasks.\n",
    "\n",
    "4. **Overall Observations:**\n",
    "   - It's evident that the choice of feature representation (TF-IDF vs. Word2Vec) and dimensionality reduction technique (PCA vs. T-SNE) significantly impacts clustering and classification performance.\n",
    "   - The linkage method in hierarchical clustering plays a crucial role in determining cluster quality, with complete and average linkage generally performing better than single and ward linkage in various scenarios.\n"
   ]
  },
  {
   "cell_type": "markdown",
   "metadata": {},
   "source": [
    "### Note:\n",
    "\n",
    "The Topics of each clusters are saved in these two files `proceed_data/vectorizing_results/topics_tfidf.txt` and `proceed_data/vectorizing_results/topics_word2vec.txt` base on their vectorization approach."
   ]
  },
  {
   "cell_type": "markdown",
   "metadata": {},
   "source": [
    "## Analysis of the results\n"
   ]
  },
  {
   "cell_type": "markdown",
   "metadata": {},
   "source": [
    "\n",
    "1. **TF-IDF based Representations:**\n",
    "    - Kmeans with PCA: Silhouette score = 10\n",
    "    - Kmeans with T-SNE: Silhouette score = 36\n",
    "    - Hierarchical clustering with PCA:\n",
    "        - Complete linkage: Silhouette score = 6\n",
    "        - Single linkage: Silhouette score = 25\n",
    "        - Ward linkage: Silhouette score = 5\n",
    "        - Average linkage: Silhouette score = 20\n",
    "    - Hierarchical clustering with T-SNE:\n",
    "        - Complete linkage: Silhouette score = 40\n",
    "        - Single linkage: Silhouette score = 25\n",
    "        - Ward linkage: Silhouette score = 35\n",
    "        - Average linkage: Silhouette score = 37\n",
    "    - Agglomerative Clustering with PCA: Silhouette score = 6\n",
    "    - Agglomerative Clustering with T-SNE: Silhouette score = 32\n",
    "    - SGD classification with Kmeans and T-SNE:\n",
    "        - Accuracy = 82\n",
    "        - Precision = 82\n",
    "        - Recall = 81\n",
    "        - F1-Score = 82\n",
    "\n",
    "2. **Word2Vec based Representations:**\n",
    "    - Kmeans with PCA: Silhouette score = 10\n",
    "    - Kmeans with T-SNE: Silhouette score = 36\n",
    "    - Hierarchical clustering with PCA:\n",
    "        - Complete linkage: Silhouette score = 17\n",
    "        - Single linkage: Silhouette score = 40\n",
    "        - Ward linkage: Silhouette score = 17\n",
    "        - Average linkage: Silhouette score = 43\n",
    "    - Hierarchical clustering with T-SNE:\n",
    "        - Complete linkage: Silhouette score = 40\n",
    "        - Single linkage: Silhouette score = 15\n",
    "        - Ward linkage: Silhouette score = 39\n",
    "        - Average linkage: Silhouette score = 39\n",
    "    - Agglomerative Clustering with PCA: Silhouette score = 5\n",
    "    - Agglomerative Clustering with T-SNE: Silhouette score = 33\n",
    "    - SGD classification with Kmeans and T-SNE:\n",
    "        - Accuracy = 74\n",
    "        - Precision = 73\n",
    "        - Recall = 73\n",
    "        - F1-Score = 73\n",
    "\n",
    "In both TF-IDF and Word2Vec representations, T-SNE outperforms PCA in terms of silhouette score for Kmeans clustering. However, for hierarchical clustering, the performance varies based on linkage methods and the choice of representation.\n",
    "\n",
    "For SGD classification, using TF-IDF with Kmeans and  Word2Vec with Kmeans seems have the same results.\n"
   ]
  },
  {
   "cell_type": "code",
   "execution_count": null,
   "metadata": {},
   "outputs": [],
   "source": []
  }
 ],
 "metadata": {
  "language_info": {
   "name": "python"
  }
 },
 "nbformat": 4,
 "nbformat_minor": 2
}
